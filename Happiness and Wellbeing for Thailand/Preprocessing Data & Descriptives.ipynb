{
 "cells": [
  {
   "cell_type": "code",
   "execution_count": 1,
   "id": "1a8203e6",
   "metadata": {},
   "outputs": [],
   "source": [
    "import pandas as pd\n",
    "import numpy as np\n",
    "import matplotlib.pyplot as plt\n"
   ]
  },
  {
   "cell_type": "code",
   "execution_count": 2,
   "id": "3cf132d3",
   "metadata": {},
   "outputs": [
    {
     "name": "stderr",
     "output_type": "stream",
     "text": [
      "D:\\programs\\anaconda\\lib\\site-packages\\openpyxl\\styles\\stylesheet.py:226: UserWarning: Workbook contains no default style, apply openpyxl's default\n",
      "  warn(\"Workbook contains no default style, apply openpyxl's default\")\n"
     ]
    }
   ],
   "source": [
    "original_data = pd.read_excel('D:/feps  fourth year curriculum/CDA/mini project/Thailand resources/F00013220-WVS_Wave_7_Thailand_Excel_v5.0.xlsx')"
   ]
  },
  {
   "cell_type": "code",
   "execution_count": 3,
   "id": "e4655de4",
   "metadata": {},
   "outputs": [
    {
     "data": {
      "text/html": [
       "<div>\n",
       "<style scoped>\n",
       "    .dataframe tbody tr th:only-of-type {\n",
       "        vertical-align: middle;\n",
       "    }\n",
       "\n",
       "    .dataframe tbody tr th {\n",
       "        vertical-align: top;\n",
       "    }\n",
       "\n",
       "    .dataframe thead th {\n",
       "        text-align: right;\n",
       "    }\n",
       "</style>\n",
       "<table border=\"1\" class=\"dataframe\">\n",
       "  <thead>\n",
       "    <tr style=\"text-align: right;\">\n",
       "      <th></th>\n",
       "      <th>Q46: Feeling of happiness</th>\n",
       "      <th>Q48: How much freedom of choice and control</th>\n",
       "      <th>Q50: Satisfaction with financial situation of household</th>\n",
       "      <th>Q54: Frequency you/family (last 12 month): Gone without a cash income</th>\n",
       "      <th>Q158: Science and technology are making our lives healthier, easier, and more comfortable</th>\n",
       "      <th>Q260: Sex</th>\n",
       "    </tr>\n",
       "  </thead>\n",
       "  <tbody>\n",
       "    <tr>\n",
       "      <th>0</th>\n",
       "      <td>2</td>\n",
       "      <td>10</td>\n",
       "      <td>9</td>\n",
       "      <td>4</td>\n",
       "      <td>2</td>\n",
       "      <td>2</td>\n",
       "    </tr>\n",
       "    <tr>\n",
       "      <th>1</th>\n",
       "      <td>1</td>\n",
       "      <td>7</td>\n",
       "      <td>8</td>\n",
       "      <td>4</td>\n",
       "      <td>5</td>\n",
       "      <td>1</td>\n",
       "    </tr>\n",
       "    <tr>\n",
       "      <th>2</th>\n",
       "      <td>2</td>\n",
       "      <td>5</td>\n",
       "      <td>3</td>\n",
       "      <td>2</td>\n",
       "      <td>10</td>\n",
       "      <td>1</td>\n",
       "    </tr>\n",
       "    <tr>\n",
       "      <th>3</th>\n",
       "      <td>1</td>\n",
       "      <td>8</td>\n",
       "      <td>8</td>\n",
       "      <td>2</td>\n",
       "      <td>9</td>\n",
       "      <td>2</td>\n",
       "    </tr>\n",
       "    <tr>\n",
       "      <th>4</th>\n",
       "      <td>2</td>\n",
       "      <td>10</td>\n",
       "      <td>1</td>\n",
       "      <td>1</td>\n",
       "      <td>1</td>\n",
       "      <td>2</td>\n",
       "    </tr>\n",
       "    <tr>\n",
       "      <th>...</th>\n",
       "      <td>...</td>\n",
       "      <td>...</td>\n",
       "      <td>...</td>\n",
       "      <td>...</td>\n",
       "      <td>...</td>\n",
       "      <td>...</td>\n",
       "    </tr>\n",
       "    <tr>\n",
       "      <th>1495</th>\n",
       "      <td>1</td>\n",
       "      <td>1</td>\n",
       "      <td>1</td>\n",
       "      <td>2</td>\n",
       "      <td>10</td>\n",
       "      <td>2</td>\n",
       "    </tr>\n",
       "    <tr>\n",
       "      <th>1496</th>\n",
       "      <td>1</td>\n",
       "      <td>5</td>\n",
       "      <td>5</td>\n",
       "      <td>1</td>\n",
       "      <td>9</td>\n",
       "      <td>1</td>\n",
       "    </tr>\n",
       "    <tr>\n",
       "      <th>1497</th>\n",
       "      <td>1</td>\n",
       "      <td>8</td>\n",
       "      <td>8</td>\n",
       "      <td>4</td>\n",
       "      <td>9</td>\n",
       "      <td>2</td>\n",
       "    </tr>\n",
       "    <tr>\n",
       "      <th>1498</th>\n",
       "      <td>2</td>\n",
       "      <td>7</td>\n",
       "      <td>8</td>\n",
       "      <td>4</td>\n",
       "      <td>10</td>\n",
       "      <td>1</td>\n",
       "    </tr>\n",
       "    <tr>\n",
       "      <th>1499</th>\n",
       "      <td>2</td>\n",
       "      <td>8</td>\n",
       "      <td>5</td>\n",
       "      <td>4</td>\n",
       "      <td>9</td>\n",
       "      <td>1</td>\n",
       "    </tr>\n",
       "  </tbody>\n",
       "</table>\n",
       "<p>1500 rows × 6 columns</p>\n",
       "</div>"
      ],
      "text/plain": [
       "      Q46: Feeling of happiness  Q48: How much freedom of choice and control  \\\n",
       "0                             2                                           10   \n",
       "1                             1                                            7   \n",
       "2                             2                                            5   \n",
       "3                             1                                            8   \n",
       "4                             2                                           10   \n",
       "...                         ...                                          ...   \n",
       "1495                          1                                            1   \n",
       "1496                          1                                            5   \n",
       "1497                          1                                            8   \n",
       "1498                          2                                            7   \n",
       "1499                          2                                            8   \n",
       "\n",
       "      Q50: Satisfaction with financial situation of household  \\\n",
       "0                                                     9         \n",
       "1                                                     8         \n",
       "2                                                     3         \n",
       "3                                                     8         \n",
       "4                                                     1         \n",
       "...                                                 ...         \n",
       "1495                                                  1         \n",
       "1496                                                  5         \n",
       "1497                                                  8         \n",
       "1498                                                  8         \n",
       "1499                                                  5         \n",
       "\n",
       "      Q54: Frequency you/family (last 12 month): Gone without a cash income  \\\n",
       "0                                                     4                       \n",
       "1                                                     4                       \n",
       "2                                                     2                       \n",
       "3                                                     2                       \n",
       "4                                                     1                       \n",
       "...                                                 ...                       \n",
       "1495                                                  2                       \n",
       "1496                                                  1                       \n",
       "1497                                                  4                       \n",
       "1498                                                  4                       \n",
       "1499                                                  4                       \n",
       "\n",
       "      Q158: Science and technology are making our lives healthier, easier, and more comfortable  \\\n",
       "0                                                     2                                           \n",
       "1                                                     5                                           \n",
       "2                                                    10                                           \n",
       "3                                                     9                                           \n",
       "4                                                     1                                           \n",
       "...                                                 ...                                           \n",
       "1495                                                 10                                           \n",
       "1496                                                  9                                           \n",
       "1497                                                  9                                           \n",
       "1498                                                 10                                           \n",
       "1499                                                  9                                           \n",
       "\n",
       "      Q260: Sex  \n",
       "0             2  \n",
       "1             1  \n",
       "2             1  \n",
       "3             2  \n",
       "4             2  \n",
       "...         ...  \n",
       "1495          2  \n",
       "1496          1  \n",
       "1497          2  \n",
       "1498          1  \n",
       "1499          1  \n",
       "\n",
       "[1500 rows x 6 columns]"
      ]
     },
     "execution_count": 3,
     "metadata": {},
     "output_type": "execute_result"
    }
   ],
   "source": [
    "# Selecting important cols out of all cols\n",
    "\n",
    "\n",
    "imp_columns = original_data[['Q46: Feeling of happiness' ,'Q48: How much freedom of choice and control',\n",
    "                            'Q50: Satisfaction with financial situation of household' ,\n",
    "                            'Q54: Frequency you/family (last 12 month): Gone without a cash income',\n",
    "                            'Q158: Science and technology are making our lives healthier, easier, and more comfortable',\n",
    "                            'Q260: Sex']]\n",
    "\n",
    "imp_columns\n",
    "                            \n",
    "                            "
   ]
  },
  {
   "cell_type": "markdown",
   "id": "8f3e1c59",
   "metadata": {},
   "source": [
    "# Preparing The Response Variable"
   ]
  },
  {
   "cell_type": "code",
   "execution_count": 4,
   "id": "8fe3f6c7",
   "metadata": {},
   "outputs": [
    {
     "data": {
      "text/plain": [
       "Q46: Feeling of happiness\n",
       " 2    767\n",
       " 1    486\n",
       " 3    227\n",
       " 4     14\n",
       "-5      6\n",
       "Name: count, dtype: int64"
      ]
     },
     "execution_count": 4,
     "metadata": {},
     "output_type": "execute_result"
    }
   ],
   "source": [
    "imp_columns['Q46: Feeling of happiness'].value_counts()\n",
    "\n",
    "# -5 correspond to a missing value"
   ]
  },
  {
   "cell_type": "code",
   "execution_count": 5,
   "id": "9d9e0e8f",
   "metadata": {},
   "outputs": [
    {
     "data": {
      "text/plain": [
       "Q46: Feeling of happiness\n",
       "2    767\n",
       "1    486\n",
       "3    227\n",
       "4     14\n",
       "Name: count, dtype: int64"
      ]
     },
     "execution_count": 5,
     "metadata": {},
     "output_type": "execute_result"
    }
   ],
   "source": [
    "# Remove rows where the value in 'Q46: Feeling of happiness' is -5\n",
    "imp_columns = imp_columns[imp_columns['Q46: Feeling of happiness'] != -5]\n",
    "imp_columns['Q46: Feeling of happiness'].value_counts()"
   ]
  },
  {
   "cell_type": "code",
   "execution_count": 6,
   "id": "19eb065b",
   "metadata": {},
   "outputs": [
    {
     "name": "stderr",
     "output_type": "stream",
     "text": [
      "C:\\Users\\mohamed1852\\AppData\\Local\\Temp\\ipykernel_11664\\1093381171.py:5: SettingWithCopyWarning: \n",
      "A value is trying to be set on a copy of a slice from a DataFrame.\n",
      "Try using .loc[row_indexer,col_indexer] = value instead\n",
      "\n",
      "See the caveats in the documentation: https://pandas.pydata.org/pandas-docs/stable/user_guide/indexing.html#returning-a-view-versus-a-copy\n",
      "  imp_columns['Q46: Feeling of happiness'] = imp_columns['Q46: Feeling of happiness'].map({1:1 , 2:2 ,3:3 , 4:3})\n"
     ]
    }
   ],
   "source": [
    "# Mapping 3 & 4 to be 3(Not happy)\n",
    "# 1- he's happy\n",
    "# 2- he's quite happy\n",
    "# 3- he's unhappy\n",
    "imp_columns['Q46: Feeling of happiness'] = imp_columns['Q46: Feeling of happiness'].map({1:1 , 2:2 ,3:3 , 4:3})"
   ]
  },
  {
   "cell_type": "code",
   "execution_count": 7,
   "id": "b00ca38c",
   "metadata": {},
   "outputs": [
    {
     "data": {
      "text/plain": [
       "Q46: Feeling of happiness\n",
       "2    767\n",
       "1    486\n",
       "3    241\n",
       "Name: count, dtype: int64"
      ]
     },
     "execution_count": 7,
     "metadata": {},
     "output_type": "execute_result"
    }
   ],
   "source": [
    "imp_columns['Q46: Feeling of happiness'].value_counts()"
   ]
  },
  {
   "cell_type": "code",
   "execution_count": 8,
   "id": "aea6194c",
   "metadata": {},
   "outputs": [
    {
     "data": {
      "image/png": "[encoded data removed]",
      "text/plain": [
       "<Figure size 800x800 with 1 Axes>"
      ]
     },
     "metadata": {},
     "output_type": "display_data"
    }
   ],
   "source": [
    "fig, ax = plt.subplots(figsize=(8, 8))\n",
    "ax.pie(imp_columns['Q46: Feeling of happiness'].value_counts(), labels = ['Quite Happy' , 'Happy' , 'Unhappy'],\n",
    "       autopct='%1.1f%%')\n",
    "ax.legend(title='Categories', loc='best')\n",
    "ax.set_title('Feelings of Happiness')\n",
    "plt.show()"
   ]
  },
  {
   "cell_type": "markdown",
   "id": "3905b66e",
   "metadata": {},
   "source": [
    "# Preparing the Explanatory Variables"
   ]
  },
  {
   "cell_type": "markdown",
   "id": "a81536e7",
   "metadata": {},
   "source": [
    "### Preparing the variable no. 1\n",
    " "
   ]
  },
  {
   "cell_type": "code",
   "execution_count": 9,
   "id": "09391a90",
   "metadata": {},
   "outputs": [
    {
     "data": {
      "text/plain": [
       "Q48: How much freedom of choice and control\n",
       " 5     319\n",
       " 8     235\n",
       " 6     234\n",
       " 7     216\n",
       " 10    128\n",
       " 4     112\n",
       " 3      70\n",
       " 9      70\n",
       " 1      63\n",
       " 2      39\n",
       "-1       8\n",
       "Name: count, dtype: int64"
      ]
     },
     "execution_count": 9,
     "metadata": {},
     "output_type": "execute_result"
    }
   ],
   "source": [
    "imp_columns['Q48: How much freedom of choice and control'].value_counts()"
   ]
  },
  {
   "cell_type": "code",
   "execution_count": 10,
   "id": "d7a916be",
   "metadata": {},
   "outputs": [
    {
     "data": {
      "text/plain": [
       "Q48: How much freedom of choice and control\n",
       "5     319\n",
       "8     235\n",
       "6     234\n",
       "7     216\n",
       "10    128\n",
       "4     112\n",
       "3      70\n",
       "9      70\n",
       "1      63\n",
       "2      39\n",
       "Name: count, dtype: int64"
      ]
     },
     "execution_count": 10,
     "metadata": {},
     "output_type": "execute_result"
    }
   ],
   "source": [
    "# Removing missing values\n",
    "\n",
    "imp_columns = imp_columns[imp_columns['Q48: How much freedom of choice and control'] != -1]\n",
    "imp_columns['Q48: How much freedom of choice and control'].value_counts()"
   ]
  },
  {
   "cell_type": "code",
   "execution_count": 11,
   "id": "a1a93f38",
   "metadata": {},
   "outputs": [
    {
     "data": {
      "text/plain": [
       "Q48: How much freedom of choice and control\n",
       "1    883\n",
       "2    603\n",
       "Name: count, dtype: int64"
      ]
     },
     "execution_count": 11,
     "metadata": {},
     "output_type": "execute_result"
    }
   ],
   "source": [
    "#Mapping\n",
    "# 1- Good Control(Combining from 6 to 10)\n",
    "# 2- Poor Control (combining from 1 to 5)\n",
    "imp_columns['Q48: How much freedom of choice and control'] = imp_columns['Q48: How much freedom of choice and control'].map({\n",
    "    1:2 , 2:2 ,3:2 , 4:2 ,5:2,6:1 , 7:1 , 8:1 , 9:1 , 10:1})\n",
    "\n",
    "imp_columns['Q48: How much freedom of choice and control'].value_counts()"
   ]
  },
  {
   "cell_type": "code",
   "execution_count": 12,
   "id": "b274046d",
   "metadata": {},
   "outputs": [
    {
     "data": {
      "image/png": "[encoded data removed]",
      "text/plain": [
       "<Figure size 800x800 with 1 Axes>"
      ]
     },
     "metadata": {},
     "output_type": "display_data"
    }
   ],
   "source": [
    "fig, ax = plt.subplots(figsize=(8, 8))\n",
    "ax.pie(imp_columns['Q48: How much freedom of choice and control'].value_counts(), labels = ['Good Control' , 'Poor Control'],\n",
    "       autopct='%1.1f%%')\n",
    "ax.legend(title='Categories', loc='best')\n",
    "ax.set_title('How much freedom of choice and control')\n",
    "plt.show()"
   ]
  },
  {
   "cell_type": "markdown",
   "id": "ef75f2c0",
   "metadata": {},
   "source": [
    "###  Preparing the variable no. 2\n"
   ]
  },
  {
   "cell_type": "code",
   "execution_count": 13,
   "id": "93e658e6",
   "metadata": {
    "scrolled": true
   },
   "outputs": [
    {
     "data": {
      "text/plain": [
       "Q50: Satisfaction with financial situation of household\n",
       " 5     320\n",
       " 7     249\n",
       " 8     234\n",
       " 6     226\n",
       " 4     109\n",
       " 9      90\n",
       " 10     89\n",
       " 3      88\n",
       " 2      40\n",
       " 1      37\n",
       "-1       4\n",
       "Name: count, dtype: int64"
      ]
     },
     "execution_count": 13,
     "metadata": {},
     "output_type": "execute_result"
    }
   ],
   "source": [
    "imp_columns['Q50: Satisfaction with financial situation of household'].value_counts()"
   ]
  },
  {
   "cell_type": "code",
   "execution_count": 14,
   "id": "f3001547",
   "metadata": {},
   "outputs": [
    {
     "data": {
      "text/plain": [
       "Q50: Satisfaction with financial situation of household\n",
       "5     320\n",
       "7     249\n",
       "8     234\n",
       "6     226\n",
       "4     109\n",
       "9      90\n",
       "10     89\n",
       "3      88\n",
       "2      40\n",
       "1      37\n",
       "Name: count, dtype: int64"
      ]
     },
     "execution_count": 14,
     "metadata": {},
     "output_type": "execute_result"
    }
   ],
   "source": [
    "# removing missing values\n",
    "imp_columns = imp_columns[imp_columns['Q50: Satisfaction with financial situation of household'] != -1]\n",
    "imp_columns['Q50: Satisfaction with financial situation of household'].value_counts()"
   ]
  },
  {
   "cell_type": "code",
   "execution_count": 15,
   "id": "b56d0b78",
   "metadata": {},
   "outputs": [
    {
     "data": {
      "text/plain": [
       "Q50: Satisfaction with financial situation of household\n",
       "1    888\n",
       "2    594\n",
       "Name: count, dtype: int64"
      ]
     },
     "execution_count": 15,
     "metadata": {},
     "output_type": "execute_result"
    }
   ],
   "source": [
    "#Mapping\n",
    "# 1- satisfied(Combining from 6 to 10)\n",
    "# 2- Dissatisfied (combining from 1 to 5)\n",
    "imp_columns['Q50: Satisfaction with financial situation of household'] = imp_columns['Q50: Satisfaction with financial situation of household'].map({\n",
    "    1:2 , 2:2 ,3:2 , 4:2 ,5:2,6:1 , 7:1 , 8:1 , 9:1 , 10:1 })\n",
    "\n",
    "imp_columns['Q50: Satisfaction with financial situation of household'].value_counts()"
   ]
  },
  {
   "cell_type": "code",
   "execution_count": 16,
   "id": "2dc4b7c8",
   "metadata": {},
   "outputs": [
    {
     "data": {
      "image/png": "[encoded data removed]",
      "text/plain": [
       "<Figure size 800x800 with 1 Axes>"
      ]
     },
     "metadata": {},
     "output_type": "display_data"
    }
   ],
   "source": [
    "fig, ax = plt.subplots(figsize=(8, 8))\n",
    "ax.pie(imp_columns['Q50: Satisfaction with financial situation of household'].value_counts(), labels = ['Satisfied' , 'Dissatisfied'],\n",
    "       autopct='%1.1f%%')\n",
    "ax.legend(title='Categories', loc='best')\n",
    "ax.set_title('Satisfaction with financial situation of household')\n",
    "plt.show()"
   ]
  },
  {
   "cell_type": "markdown",
   "id": "820f36ec",
   "metadata": {},
   "source": [
    "###  Preparing the variable no. 3\n"
   ]
  },
  {
   "cell_type": "code",
   "execution_count": 17,
   "id": "5ad2581f",
   "metadata": {},
   "outputs": [
    {
     "data": {
      "text/plain": [
       "Q54: Frequency you/family (last 12 month): Gone without a cash income\n",
       " 4    644\n",
       " 2    435\n",
       " 3    279\n",
       " 1    120\n",
       "-2      4\n",
       "Name: count, dtype: int64"
      ]
     },
     "execution_count": 17,
     "metadata": {},
     "output_type": "execute_result"
    }
   ],
   "source": [
    "imp_columns['Q54: Frequency you/family (last 12 month): Gone without a cash income'].value_counts()"
   ]
  },
  {
   "cell_type": "code",
   "execution_count": 18,
   "id": "4b9d6a37",
   "metadata": {},
   "outputs": [
    {
     "data": {
      "text/plain": [
       "Q54: Frequency you/family (last 12 month): Gone without a cash income\n",
       "4    644\n",
       "2    435\n",
       "3    279\n",
       "1    120\n",
       "Name: count, dtype: int64"
      ]
     },
     "execution_count": 18,
     "metadata": {},
     "output_type": "execute_result"
    }
   ],
   "source": [
    "# removing missing values\n",
    "imp_columns = imp_columns[imp_columns['Q54: Frequency you/family (last 12 month): Gone without a cash income'] != -2]\n",
    "imp_columns['Q54: Frequency you/family (last 12 month): Gone without a cash income'].value_counts()"
   ]
  },
  {
   "cell_type": "code",
   "execution_count": 19,
   "id": "3719ba00",
   "metadata": {},
   "outputs": [
    {
     "data": {
      "text/plain": [
       "Q54: Frequency you/family (last 12 month): Gone without a cash income\n",
       "2    714\n",
       "3    644\n",
       "1    120\n",
       "Name: count, dtype: int64"
      ]
     },
     "execution_count": 19,
     "metadata": {},
     "output_type": "execute_result"
    }
   ],
   "source": [
    "#Mapping\n",
    "# 1- Often\n",
    "# 2- Somtimes (combining Sometimes & Rarely)\n",
    "# 3- Never\n",
    "\n",
    "imp_columns['Q54: Frequency you/family (last 12 month): Gone without a cash income'] = imp_columns['Q54: Frequency you/family (last 12 month): Gone without a cash income'].map({\n",
    "    1:1 , 2:2 ,3:2 , 4:3})\n",
    "\n",
    "imp_columns['Q54: Frequency you/family (last 12 month): Gone without a cash income'].value_counts()"
   ]
  },
  {
   "cell_type": "code",
   "execution_count": 20,
   "id": "8567abbf",
   "metadata": {},
   "outputs": [
    {
     "data": {
      "image/png": "[encoded data removed]",
      "text/plain": [
       "<Figure size 800x800 with 1 Axes>"
      ]
     },
     "metadata": {},
     "output_type": "display_data"
    }
   ],
   "source": [
    "fig, ax = plt.subplots(figsize=(8, 8))\n",
    "ax.pie(imp_columns['Q54: Frequency you/family (last 12 month): Gone without a cash income'].value_counts(), labels = ['Sometimes' , 'Never' , 'Often'],\n",
    "       autopct='%1.1f%%')\n",
    "ax.legend(title='Categories', loc='best')\n",
    "ax.set_title('Going without a cash income frequency')\n",
    "plt.show()"
   ]
  },
  {
   "cell_type": "markdown",
   "id": "1ca53261",
   "metadata": {},
   "source": [
    "###  Preparing the variable no. 4\n"
   ]
  },
  {
   "cell_type": "code",
   "execution_count": 21,
   "id": "a01b65ed",
   "metadata": {},
   "outputs": [
    {
     "data": {
      "text/plain": [
       "Q158: Science and technology are making our lives healthier, easier, and more comfortable\n",
       " 10    248\n",
       " 8     245\n",
       " 5     224\n",
       " 7     170\n",
       " 9     119\n",
       " 1     119\n",
       " 6     100\n",
       " 3      95\n",
       " 4      77\n",
       " 2      66\n",
       "-5      15\n",
       "Name: count, dtype: int64"
      ]
     },
     "execution_count": 21,
     "metadata": {},
     "output_type": "execute_result"
    }
   ],
   "source": [
    "imp_columns['Q158: Science and technology are making our lives healthier, easier, and more comfortable'].value_counts()"
   ]
  },
  {
   "cell_type": "code",
   "execution_count": 22,
   "id": "cd06fed2",
   "metadata": {},
   "outputs": [
    {
     "data": {
      "text/plain": [
       "Q158: Science and technology are making our lives healthier, easier, and more comfortable\n",
       "10    248\n",
       "8     245\n",
       "5     224\n",
       "7     170\n",
       "9     119\n",
       "1     119\n",
       "6     100\n",
       "3      95\n",
       "4      77\n",
       "2      66\n",
       "Name: count, dtype: int64"
      ]
     },
     "execution_count": 22,
     "metadata": {},
     "output_type": "execute_result"
    }
   ],
   "source": [
    "# removing missing values\n",
    "imp_columns = imp_columns[imp_columns['Q158: Science and technology are making our lives healthier, easier, and more comfortable'] != -5]\n",
    "imp_columns['Q158: Science and technology are making our lives healthier, easier, and more comfortable'].value_counts()"
   ]
  },
  {
   "cell_type": "code",
   "execution_count": 23,
   "id": "af43ab11",
   "metadata": {},
   "outputs": [
    {
     "data": {
      "text/plain": [
       "Q158: Science and technology are making our lives healthier, easier, and more comfortable\n",
       "1    882\n",
       "2    581\n",
       "Name: count, dtype: int64"
      ]
     },
     "execution_count": 23,
     "metadata": {},
     "output_type": "execute_result"
    }
   ],
   "source": [
    "# Mapping\n",
    "# 1- Agree (Combining values from 6 to 10)\n",
    "# 2- Disagree (Combining values from 1 to 5)\n",
    "\n",
    "\n",
    "imp_columns['Q158: Science and technology are making our lives healthier, easier, and more comfortable'] = imp_columns['Q158: Science and technology are making our lives healthier, easier, and more comfortable'].map({\n",
    "    1:2 , 2:2 ,3:2 , 4:2 ,5:2,6:1 , 7:1 , 8:1 , 9:1 , 10:1})\n",
    "\n",
    "imp_columns['Q158: Science and technology are making our lives healthier, easier, and more comfortable'].value_counts()"
   ]
  },
  {
   "cell_type": "code",
   "execution_count": 24,
   "id": "ddbe0f39",
   "metadata": {},
   "outputs": [
    {
     "data": {
      "image/png": "[encoded data removed]",
      "text/plain": [
       "<Figure size 800x800 with 1 Axes>"
      ]
     },
     "metadata": {},
     "output_type": "display_data"
    }
   ],
   "source": [
    "fig, ax = plt.subplots(figsize=(8, 8))\n",
    "ax.pie(imp_columns['Q158: Science and technology are making our lives healthier, easier, and more comfortable'].value_counts(), labels = ['Agree' , 'Disagree'],\n",
    "       autopct='%1.1f%%')\n",
    "ax.legend(title='Categories', loc='best')\n",
    "ax.set_title('Science and technology Make life easier')\n",
    "plt.show()"
   ]
  },
  {
   "cell_type": "markdown",
   "id": "13d2c21c",
   "metadata": {},
   "source": [
    "###  Preparing the variable no. 5\n"
   ]
  },
  {
   "cell_type": "code",
   "execution_count": 25,
   "id": "f6370ab3",
   "metadata": {
    "scrolled": true
   },
   "outputs": [
    {
     "data": {
      "text/plain": [
       "Q260: Sex\n",
       " 2    770\n",
       " 1    684\n",
       "-5      9\n",
       "Name: count, dtype: int64"
      ]
     },
     "execution_count": 25,
     "metadata": {},
     "output_type": "execute_result"
    }
   ],
   "source": [
    "imp_columns['Q260: Sex'].value_counts()"
   ]
  },
  {
   "cell_type": "code",
   "execution_count": 26,
   "id": "071d03d8",
   "metadata": {},
   "outputs": [
    {
     "data": {
      "text/plain": [
       "Q260: Sex\n",
       "2    770\n",
       "1    684\n",
       "Name: count, dtype: int64"
      ]
     },
     "execution_count": 26,
     "metadata": {},
     "output_type": "execute_result"
    }
   ],
   "source": [
    "# removing missing values\n",
    "imp_columns = imp_columns[imp_columns['Q260: Sex'] != -5]\n",
    "imp_columns['Q260: Sex'].value_counts()"
   ]
  },
  {
   "cell_type": "code",
   "execution_count": 27,
   "id": "b085490b",
   "metadata": {},
   "outputs": [
    {
     "data": {
      "image/png": "[encoded data removed]",
      "text/plain": [
       "<Figure size 800x800 with 1 Axes>"
      ]
     },
     "metadata": {},
     "output_type": "display_data"
    }
   ],
   "source": [
    "fig, ax = plt.subplots(figsize=(8, 8))\n",
    "ax.pie(imp_columns['Q260: Sex'].value_counts(), labels = ['Female' , 'Male'],\n",
    "       autopct='%1.1f%%')\n",
    "ax.legend(title='Categories', loc='best')\n",
    "ax.set_title('Sex Distribution')\n",
    "plt.show()"
   ]
  },
  {
   "cell_type": "markdown",
   "id": "a1028d23",
   "metadata": {},
   "source": [
    "# Final form of data"
   ]
  },
  {
   "cell_type": "code",
   "execution_count": 28,
   "id": "8f35e5d2",
   "metadata": {},
   "outputs": [
    {
     "data": {
      "text/plain": [
       "(1454, 6)"
      ]
     },
     "execution_count": 28,
     "metadata": {},
     "output_type": "execute_result"
    }
   ],
   "source": [
    "recoded_data = imp_columns\n",
    "recoded_data.shape"
   ]
  },
  {
   "cell_type": "code",
   "execution_count": 29,
   "id": "5dc8ce4f",
   "metadata": {},
   "outputs": [
    {
     "data": {
      "text/html": [
       "<div>\n",
       "<style scoped>\n",
       "    .dataframe tbody tr th:only-of-type {\n",
       "        vertical-align: middle;\n",
       "    }\n",
       "\n",
       "    .dataframe tbody tr th {\n",
       "        vertical-align: top;\n",
       "    }\n",
       "\n",
       "    .dataframe thead th {\n",
       "        text-align: right;\n",
       "    }\n",
       "</style>\n",
       "<table border=\"1\" class=\"dataframe\">\n",
       "  <thead>\n",
       "    <tr style=\"text-align: right;\">\n",
       "      <th></th>\n",
       "      <th>Q46: Feeling of happiness</th>\n",
       "      <th>Q48: How much freedom of choice and control</th>\n",
       "      <th>Q50: Satisfaction with financial situation of household</th>\n",
       "      <th>Q54: Frequency you/family (last 12 month): Gone without a cash income</th>\n",
       "      <th>Q158: Science and technology are making our lives healthier, easier, and more comfortable</th>\n",
       "      <th>Q260: Sex</th>\n",
       "    </tr>\n",
       "  </thead>\n",
       "  <tbody>\n",
       "    <tr>\n",
       "      <th>1</th>\n",
       "      <td>476</td>\n",
       "      <td>865.0</td>\n",
       "      <td>873.0</td>\n",
       "      <td>115</td>\n",
       "      <td>879.0</td>\n",
       "      <td>684.0</td>\n",
       "    </tr>\n",
       "    <tr>\n",
       "      <th>2</th>\n",
       "      <td>742</td>\n",
       "      <td>589.0</td>\n",
       "      <td>581.0</td>\n",
       "      <td>706</td>\n",
       "      <td>575.0</td>\n",
       "      <td>770.0</td>\n",
       "    </tr>\n",
       "    <tr>\n",
       "      <th>3</th>\n",
       "      <td>236</td>\n",
       "      <td>NaN</td>\n",
       "      <td>NaN</td>\n",
       "      <td>633</td>\n",
       "      <td>NaN</td>\n",
       "      <td>NaN</td>\n",
       "    </tr>\n",
       "  </tbody>\n",
       "</table>\n",
       "</div>"
      ],
      "text/plain": [
       "   Q46: Feeling of happiness  Q48: How much freedom of choice and control  \\\n",
       "1                        476                                        865.0   \n",
       "2                        742                                        589.0   \n",
       "3                        236                                          NaN   \n",
       "\n",
       "   Q50: Satisfaction with financial situation of household  \\\n",
       "1                                              873.0         \n",
       "2                                              581.0         \n",
       "3                                                NaN         \n",
       "\n",
       "   Q54: Frequency you/family (last 12 month): Gone without a cash income  \\\n",
       "1                                                115                       \n",
       "2                                                706                       \n",
       "3                                                633                       \n",
       "\n",
       "   Q158: Science and technology are making our lives healthier, easier, and more comfortable  \\\n",
       "1                                              879.0                                           \n",
       "2                                              575.0                                           \n",
       "3                                                NaN                                           \n",
       "\n",
       "   Q260: Sex  \n",
       "1      684.0  \n",
       "2      770.0  \n",
       "3        NaN  "
      ]
     },
     "execution_count": 29,
     "metadata": {},
     "output_type": "execute_result"
    }
   ],
   "source": [
    "# View possible values for all columns\n",
    "recoded_data.apply(pd.Series.value_counts)\n"
   ]
  },
  {
   "cell_type": "markdown",
   "id": "0ac8d309",
   "metadata": {},
   "source": [
    "# Creating 2-way tables & testing independence"
   ]
  },
  {
   "cell_type": "code",
   "execution_count": 30,
   "id": "e41f020b",
   "metadata": {},
   "outputs": [],
   "source": [
    "# To calculate Pearson chi-square test for independence\n",
    "from scipy.stats import chi2_contingency\n"
   ]
  },
  {
   "cell_type": "code",
   "execution_count": 31,
   "id": "45e316c7",
   "metadata": {},
   "outputs": [
    {
     "name": "stdout",
     "output_type": "stream",
     "text": [
      "Chi-square statistic: 25.62\n",
      "P-value: 0.000002730\n"
     ]
    }
   ],
   "source": [
    "table1 = pd.crosstab(recoded_data['Q48: How much freedom of choice and control'],recoded_data['Q46: Feeling of happiness'])\n",
    "chi2, p, dof, expected = chi2_contingency(table1)\n",
    "\n",
    "\n",
    "print(f\"Chi-square statistic: {chi2:.2f}\")\n",
    "print(f\"P-value: {p:.9f}\")"
   ]
  },
  {
   "cell_type": "code",
   "execution_count": 32,
   "id": "a6c97617",
   "metadata": {},
   "outputs": [
    {
     "data": {
      "text/html": [
       "<style type=\"text/css\">\n",
       "#T_8e10d th {\n",
       "  background-color: lightgrey;\n",
       "  color: black;\n",
       "  font-weight: bold;\n",
       "  border: 2px solid black;\n",
       "}\n",
       "#T_8e10d td {\n",
       "  border: 2px solid black;\n",
       "}\n",
       "</style>\n",
       "<table id=\"T_8e10d\">\n",
       "  <thead>\n",
       "    <tr>\n",
       "      <th class=\"index_name level0\" >Q46: Feeling of happiness</th>\n",
       "      <th id=\"T_8e10d_level0_col0\" class=\"col_heading level0 col0\" >1</th>\n",
       "      <th id=\"T_8e10d_level0_col1\" class=\"col_heading level0 col1\" >2</th>\n",
       "      <th id=\"T_8e10d_level0_col2\" class=\"col_heading level0 col2\" >3</th>\n",
       "    </tr>\n",
       "    <tr>\n",
       "      <th class=\"index_name level0\" >Q48: How much freedom of choice and control</th>\n",
       "      <th class=\"blank col0\" >&nbsp;</th>\n",
       "      <th class=\"blank col1\" >&nbsp;</th>\n",
       "      <th class=\"blank col2\" >&nbsp;</th>\n",
       "    </tr>\n",
       "  </thead>\n",
       "  <tbody>\n",
       "    <tr>\n",
       "      <th id=\"T_8e10d_level0_row0\" class=\"row_heading level0 row0\" >1</th>\n",
       "      <td id=\"T_8e10d_row0_col0\" class=\"data row0 col0\" >280</td>\n",
       "      <td id=\"T_8e10d_row0_col1\" class=\"data row0 col1\" >477</td>\n",
       "      <td id=\"T_8e10d_row0_col2\" class=\"data row0 col2\" >108</td>\n",
       "    </tr>\n",
       "    <tr>\n",
       "      <th id=\"T_8e10d_level0_row1\" class=\"row_heading level0 row1\" >2</th>\n",
       "      <td id=\"T_8e10d_row1_col0\" class=\"data row1 col0\" >196</td>\n",
       "      <td id=\"T_8e10d_row1_col1\" class=\"data row1 col1\" >265</td>\n",
       "      <td id=\"T_8e10d_row1_col2\" class=\"data row1 col2\" >128</td>\n",
       "    </tr>\n",
       "  </tbody>\n",
       "</table>\n"
      ],
      "text/plain": [
       "<pandas.io.formats.style.Styler at 0x234a892b8e0>"
      ]
     },
     "execution_count": 32,
     "metadata": {},
     "output_type": "execute_result"
    }
   ],
   "source": [
    "# Change table style\n",
    "styled_table1 = table1.style.set_table_styles([{'selector': 'th',\n",
    "                                               'props': [('background-color', 'lightgrey'),\n",
    "                                                         ('color', 'black'),\n",
    "                                                         ('font-weight', 'bold'),\n",
    "                                                         ('border', '2px solid black')]},\n",
    "                                              {'selector': 'td',\n",
    "                                               'props': [('border', '2px solid black')]}])\n",
    "\n",
    "styled_table1"
   ]
  },
  {
   "cell_type": "code",
   "execution_count": 33,
   "id": "362c9f8d",
   "metadata": {},
   "outputs": [
    {
     "name": "stdout",
     "output_type": "stream",
     "text": [
      "Chi-square statistic: 27.43\n",
      "P-value: 0.000001106\n"
     ]
    }
   ],
   "source": [
    "table2 = pd.crosstab(recoded_data['Q50: Satisfaction with financial situation of household'],recoded_data['Q46: Feeling of happiness'])\n",
    "chi2, p, dof, expected = chi2_contingency(table2)\n",
    "\n",
    "\n",
    "print(f\"Chi-square statistic: {chi2:.2f}\")\n",
    "print(f\"P-value: {p:.9f}\")"
   ]
  },
  {
   "cell_type": "code",
   "execution_count": 34,
   "id": "3e566b20",
   "metadata": {},
   "outputs": [
    {
     "data": {
      "text/html": [
       "<style type=\"text/css\">\n",
       "#T_38cd8 th {\n",
       "  background-color: lightgrey;\n",
       "  color: black;\n",
       "  font-weight: bold;\n",
       "  border: 2px solid black;\n",
       "}\n",
       "#T_38cd8 td {\n",
       "  border: 2px solid black;\n",
       "}\n",
       "</style>\n",
       "<table id=\"T_38cd8\">\n",
       "  <thead>\n",
       "    <tr>\n",
       "      <th class=\"index_name level0\" >Q46: Feeling of happiness</th>\n",
       "      <th id=\"T_38cd8_level0_col0\" class=\"col_heading level0 col0\" >1</th>\n",
       "      <th id=\"T_38cd8_level0_col1\" class=\"col_heading level0 col1\" >2</th>\n",
       "      <th id=\"T_38cd8_level0_col2\" class=\"col_heading level0 col2\" >3</th>\n",
       "    </tr>\n",
       "    <tr>\n",
       "      <th class=\"index_name level0\" >Q50: Satisfaction with financial situation of household</th>\n",
       "      <th class=\"blank col0\" >&nbsp;</th>\n",
       "      <th class=\"blank col1\" >&nbsp;</th>\n",
       "      <th class=\"blank col2\" >&nbsp;</th>\n",
       "    </tr>\n",
       "  </thead>\n",
       "  <tbody>\n",
       "    <tr>\n",
       "      <th id=\"T_38cd8_level0_row0\" class=\"row_heading level0 row0\" >1</th>\n",
       "      <td id=\"T_38cd8_row0_col0\" class=\"data row0 col0\" >306</td>\n",
       "      <td id=\"T_38cd8_row0_col1\" class=\"data row0 col1\" >461</td>\n",
       "      <td id=\"T_38cd8_row0_col2\" class=\"data row0 col2\" >106</td>\n",
       "    </tr>\n",
       "    <tr>\n",
       "      <th id=\"T_38cd8_level0_row1\" class=\"row_heading level0 row1\" >2</th>\n",
       "      <td id=\"T_38cd8_row1_col0\" class=\"data row1 col0\" >170</td>\n",
       "      <td id=\"T_38cd8_row1_col1\" class=\"data row1 col1\" >281</td>\n",
       "      <td id=\"T_38cd8_row1_col2\" class=\"data row1 col2\" >130</td>\n",
       "    </tr>\n",
       "  </tbody>\n",
       "</table>\n"
      ],
      "text/plain": [
       "<pandas.io.formats.style.Styler at 0x234a8929750>"
      ]
     },
     "execution_count": 34,
     "metadata": {},
     "output_type": "execute_result"
    }
   ],
   "source": [
    "# Change table style\n",
    "styled_table2 = table2.style.set_table_styles([{'selector': 'th',\n",
    "                                               'props': [('background-color', 'lightgrey'),\n",
    "                                                         ('color', 'black'),\n",
    "                                                         ('font-weight', 'bold'),\n",
    "                                                         ('border', '2px solid black')]},\n",
    "                                              {'selector': 'td',\n",
    "                                               'props': [('border', '2px solid black')]}])\n",
    "\n",
    "styled_table2"
   ]
  },
  {
   "cell_type": "code",
   "execution_count": 35,
   "id": "7b534f9f",
   "metadata": {},
   "outputs": [
    {
     "name": "stdout",
     "output_type": "stream",
     "text": [
      "Chi-square statistic: 83.40\n",
      "P-value: 0.000000000\n"
     ]
    }
   ],
   "source": [
    "table3 = pd.crosstab(recoded_data['Q54: Frequency you/family (last 12 month): Gone without a cash income'],recoded_data['Q46: Feeling of happiness'])\n",
    "\n",
    "chi2, p, dof, expected = chi2_contingency(table3) # Calculate pearson chi-sqaure test stat\n",
    "\n",
    "\n",
    "print(f\"Chi-square statistic: {chi2:.2f}\")\n",
    "print(f\"P-value: {p:.9f}\")"
   ]
  },
  {
   "cell_type": "code",
   "execution_count": 36,
   "id": "05714d72",
   "metadata": {},
   "outputs": [
    {
     "data": {
      "text/html": [
       "<style type=\"text/css\">\n",
       "#T_02276 th {\n",
       "  background-color: lightgrey;\n",
       "  color: black;\n",
       "  font-weight: bold;\n",
       "  border: 2px solid black;\n",
       "}\n",
       "#T_02276 td {\n",
       "  border: 2px solid black;\n",
       "}\n",
       "</style>\n",
       "<table id=\"T_02276\">\n",
       "  <thead>\n",
       "    <tr>\n",
       "      <th class=\"index_name level0\" >Q46: Feeling of happiness</th>\n",
       "      <th id=\"T_02276_level0_col0\" class=\"col_heading level0 col0\" >1</th>\n",
       "      <th id=\"T_02276_level0_col1\" class=\"col_heading level0 col1\" >2</th>\n",
       "      <th id=\"T_02276_level0_col2\" class=\"col_heading level0 col2\" >3</th>\n",
       "    </tr>\n",
       "    <tr>\n",
       "      <th class=\"index_name level0\" >Q54: Frequency you/family (last 12 month): Gone without a cash income</th>\n",
       "      <th class=\"blank col0\" >&nbsp;</th>\n",
       "      <th class=\"blank col1\" >&nbsp;</th>\n",
       "      <th class=\"blank col2\" >&nbsp;</th>\n",
       "    </tr>\n",
       "  </thead>\n",
       "  <tbody>\n",
       "    <tr>\n",
       "      <th id=\"T_02276_level0_row0\" class=\"row_heading level0 row0\" >1</th>\n",
       "      <td id=\"T_02276_row0_col0\" class=\"data row0 col0\" >35</td>\n",
       "      <td id=\"T_02276_row0_col1\" class=\"data row0 col1\" >43</td>\n",
       "      <td id=\"T_02276_row0_col2\" class=\"data row0 col2\" >37</td>\n",
       "    </tr>\n",
       "    <tr>\n",
       "      <th id=\"T_02276_level0_row1\" class=\"row_heading level0 row1\" >2</th>\n",
       "      <td id=\"T_02276_row1_col0\" class=\"data row1 col0\" >188</td>\n",
       "      <td id=\"T_02276_row1_col1\" class=\"data row1 col1\" >366</td>\n",
       "      <td id=\"T_02276_row1_col2\" class=\"data row1 col2\" >152</td>\n",
       "    </tr>\n",
       "    <tr>\n",
       "      <th id=\"T_02276_level0_row2\" class=\"row_heading level0 row2\" >3</th>\n",
       "      <td id=\"T_02276_row2_col0\" class=\"data row2 col0\" >253</td>\n",
       "      <td id=\"T_02276_row2_col1\" class=\"data row2 col1\" >333</td>\n",
       "      <td id=\"T_02276_row2_col2\" class=\"data row2 col2\" >47</td>\n",
       "    </tr>\n",
       "  </tbody>\n",
       "</table>\n"
      ],
      "text/plain": [
       "<pandas.io.formats.style.Styler at 0x234a8b2e140>"
      ]
     },
     "execution_count": 36,
     "metadata": {},
     "output_type": "execute_result"
    }
   ],
   "source": [
    "styled_table3 = table3.style.set_table_styles([{'selector': 'th',\n",
    "                                               'props': [('background-color', 'lightgrey'),\n",
    "                                                         ('color', 'black'),\n",
    "                                                         ('font-weight', 'bold'),\n",
    "                                                         ('border', '2px solid black')]},\n",
    "                                              {'selector': 'td',\n",
    "                                               'props': [('border', '2px solid black')]}])\n",
    "\n",
    "styled_table3"
   ]
  },
  {
   "cell_type": "code",
   "execution_count": 37,
   "id": "33767fc1",
   "metadata": {},
   "outputs": [
    {
     "name": "stdout",
     "output_type": "stream",
     "text": [
      "Chi-square statistic: 54.47\n",
      "P-value: 0.000000000\n"
     ]
    }
   ],
   "source": [
    "table4 = pd.crosstab(recoded_data['Q158: Science and technology are making our lives healthier, easier, and more comfortable'],recoded_data['Q46: Feeling of happiness'])\n",
    "\n",
    "chi2, p, dof, expected = chi2_contingency(table4) # Calculate pearson chi-sqaure test stat\n",
    "\n",
    "\n",
    "print(f\"Chi-square statistic: {chi2:.2f}\")\n",
    "print(f\"P-value: {p:.9f}\")"
   ]
  },
  {
   "cell_type": "code",
   "execution_count": 38,
   "id": "31139b99",
   "metadata": {},
   "outputs": [
    {
     "data": {
      "text/html": [
       "<style type=\"text/css\">\n",
       "#T_3d098 th {\n",
       "  background-color: lightgrey;\n",
       "  color: black;\n",
       "  font-weight: bold;\n",
       "  border: 2px solid black;\n",
       "}\n",
       "#T_3d098 td {\n",
       "  border: 2px solid black;\n",
       "}\n",
       "</style>\n",
       "<table id=\"T_3d098\">\n",
       "  <thead>\n",
       "    <tr>\n",
       "      <th class=\"index_name level0\" >Q46: Feeling of happiness</th>\n",
       "      <th id=\"T_3d098_level0_col0\" class=\"col_heading level0 col0\" >1</th>\n",
       "      <th id=\"T_3d098_level0_col1\" class=\"col_heading level0 col1\" >2</th>\n",
       "      <th id=\"T_3d098_level0_col2\" class=\"col_heading level0 col2\" >3</th>\n",
       "    </tr>\n",
       "    <tr>\n",
       "      <th class=\"index_name level0\" >Q158: Science and technology are making our lives healthier, easier, and more comfortable</th>\n",
       "      <th class=\"blank col0\" >&nbsp;</th>\n",
       "      <th class=\"blank col1\" >&nbsp;</th>\n",
       "      <th class=\"blank col2\" >&nbsp;</th>\n",
       "    </tr>\n",
       "  </thead>\n",
       "  <tbody>\n",
       "    <tr>\n",
       "      <th id=\"T_3d098_level0_row0\" class=\"row_heading level0 row0\" >1</th>\n",
       "      <td id=\"T_3d098_row0_col0\" class=\"data row0 col0\" >258</td>\n",
       "      <td id=\"T_3d098_row0_col1\" class=\"data row0 col1\" >514</td>\n",
       "      <td id=\"T_3d098_row0_col2\" class=\"data row0 col2\" >107</td>\n",
       "    </tr>\n",
       "    <tr>\n",
       "      <th id=\"T_3d098_level0_row1\" class=\"row_heading level0 row1\" >2</th>\n",
       "      <td id=\"T_3d098_row1_col0\" class=\"data row1 col0\" >218</td>\n",
       "      <td id=\"T_3d098_row1_col1\" class=\"data row1 col1\" >228</td>\n",
       "      <td id=\"T_3d098_row1_col2\" class=\"data row1 col2\" >129</td>\n",
       "    </tr>\n",
       "  </tbody>\n",
       "</table>\n"
      ],
      "text/plain": [
       "<pandas.io.formats.style.Styler at 0x234a8b2dba0>"
      ]
     },
     "execution_count": 38,
     "metadata": {},
     "output_type": "execute_result"
    }
   ],
   "source": [
    "styled_table4 = table4.style.set_table_styles([{'selector': 'th',\n",
    "                                               'props': [('background-color', 'lightgrey'),\n",
    "                                                         ('color', 'black'),\n",
    "                                                         ('font-weight', 'bold'),\n",
    "                                                         ('border', '2px solid black')]},\n",
    "                                              {'selector': 'td',\n",
    "                                               'props': [('border', '2px solid black')]}])\n",
    "\n",
    "styled_table4"
   ]
  },
  {
   "cell_type": "code",
   "execution_count": 39,
   "id": "2bedfe74",
   "metadata": {},
   "outputs": [
    {
     "name": "stdout",
     "output_type": "stream",
     "text": [
      "Chi-square statistic: 3.85\n",
      "P-value: 0.1456\n"
     ]
    }
   ],
   "source": [
    "table5 = pd.crosstab(recoded_data['Q260: Sex'],recoded_data['Q46: Feeling of happiness'])\n",
    "\n",
    "chi2, p, dof, expected = chi2_contingency(table5) # Calculate pearson chi-sqaure test stat\n",
    "\n",
    "\n",
    "print(f\"Chi-square statistic: {chi2:.2f}\")\n",
    "print(f\"P-value: {p:.4f}\")"
   ]
  },
  {
   "cell_type": "code",
   "execution_count": 40,
   "id": "22166ee2",
   "metadata": {},
   "outputs": [
    {
     "data": {
      "text/html": [
       "<style type=\"text/css\">\n",
       "#T_4b9f3 th {\n",
       "  background-color: lightgrey;\n",
       "  color: black;\n",
       "  font-weight: bold;\n",
       "  border: 2px solid black;\n",
       "}\n",
       "#T_4b9f3 td {\n",
       "  border: 2px solid black;\n",
       "}\n",
       "</style>\n",
       "<table id=\"T_4b9f3\">\n",
       "  <thead>\n",
       "    <tr>\n",
       "      <th class=\"index_name level0\" >Q46: Feeling of happiness</th>\n",
       "      <th id=\"T_4b9f3_level0_col0\" class=\"col_heading level0 col0\" >1</th>\n",
       "      <th id=\"T_4b9f3_level0_col1\" class=\"col_heading level0 col1\" >2</th>\n",
       "      <th id=\"T_4b9f3_level0_col2\" class=\"col_heading level0 col2\" >3</th>\n",
       "    </tr>\n",
       "    <tr>\n",
       "      <th class=\"index_name level0\" >Q260: Sex</th>\n",
       "      <th class=\"blank col0\" >&nbsp;</th>\n",
       "      <th class=\"blank col1\" >&nbsp;</th>\n",
       "      <th class=\"blank col2\" >&nbsp;</th>\n",
       "    </tr>\n",
       "  </thead>\n",
       "  <tbody>\n",
       "    <tr>\n",
       "      <th id=\"T_4b9f3_level0_row0\" class=\"row_heading level0 row0\" >1</th>\n",
       "      <td id=\"T_4b9f3_row0_col0\" class=\"data row0 col0\" >211</td>\n",
       "      <td id=\"T_4b9f3_row0_col1\" class=\"data row0 col1\" >350</td>\n",
       "      <td id=\"T_4b9f3_row0_col2\" class=\"data row0 col2\" >123</td>\n",
       "    </tr>\n",
       "    <tr>\n",
       "      <th id=\"T_4b9f3_level0_row1\" class=\"row_heading level0 row1\" >2</th>\n",
       "      <td id=\"T_4b9f3_row1_col0\" class=\"data row1 col0\" >265</td>\n",
       "      <td id=\"T_4b9f3_row1_col1\" class=\"data row1 col1\" >392</td>\n",
       "      <td id=\"T_4b9f3_row1_col2\" class=\"data row1 col2\" >113</td>\n",
       "    </tr>\n",
       "  </tbody>\n",
       "</table>\n"
      ],
      "text/plain": [
       "<pandas.io.formats.style.Styler at 0x234a8b2cbe0>"
      ]
     },
     "execution_count": 40,
     "metadata": {},
     "output_type": "execute_result"
    }
   ],
   "source": [
    "styled_table5 = table5.style.set_table_styles([{'selector': 'th',\n",
    "                                               'props': [('background-color', 'lightgrey'),\n",
    "                                                         ('color', 'black'),\n",
    "                                                         ('font-weight', 'bold'),\n",
    "                                                         ('border', '2px solid black')]},\n",
    "                                              {'selector': 'td',\n",
    "                                               'props': [('border', '2px solid black')]}])\n",
    "\n",
    "styled_table5"
   ]
  },
  {
   "cell_type": "markdown",
   "id": "e1e59f0b",
   "metadata": {},
   "source": [
    "# Creating 3-way Table"
   ]
  },
  {
   "cell_type": "code",
   "execution_count": 41,
   "id": "07531625",
   "metadata": {},
   "outputs": [
    {
     "data": {
      "text/html": [
       "<div>\n",
       "<style scoped>\n",
       "    .dataframe tbody tr th:only-of-type {\n",
       "        vertical-align: middle;\n",
       "    }\n",
       "\n",
       "    .dataframe tbody tr th {\n",
       "        vertical-align: top;\n",
       "    }\n",
       "\n",
       "    .dataframe thead tr th {\n",
       "        text-align: left;\n",
       "    }\n",
       "\n",
       "    .dataframe thead tr:last-of-type th {\n",
       "        text-align: right;\n",
       "    }\n",
       "</style>\n",
       "<table border=\"1\" class=\"dataframe\">\n",
       "  <thead>\n",
       "    <tr>\n",
       "      <th>Q46: Feeling of happiness</th>\n",
       "      <th colspan=\"2\" halign=\"left\">1</th>\n",
       "      <th colspan=\"2\" halign=\"left\">2</th>\n",
       "      <th colspan=\"2\" halign=\"left\">3</th>\n",
       "    </tr>\n",
       "    <tr>\n",
       "      <th>Q48: How much freedom of choice and control</th>\n",
       "      <th>1</th>\n",
       "      <th>2</th>\n",
       "      <th>1</th>\n",
       "      <th>2</th>\n",
       "      <th>1</th>\n",
       "      <th>2</th>\n",
       "    </tr>\n",
       "    <tr>\n",
       "      <th>Q50: Satisfaction with financial situation of household</th>\n",
       "      <th></th>\n",
       "      <th></th>\n",
       "      <th></th>\n",
       "      <th></th>\n",
       "      <th></th>\n",
       "      <th></th>\n",
       "    </tr>\n",
       "  </thead>\n",
       "  <tbody>\n",
       "    <tr>\n",
       "      <th>1</th>\n",
       "      <td>211</td>\n",
       "      <td>95</td>\n",
       "      <td>352</td>\n",
       "      <td>109</td>\n",
       "      <td>73</td>\n",
       "      <td>33</td>\n",
       "    </tr>\n",
       "    <tr>\n",
       "      <th>2</th>\n",
       "      <td>69</td>\n",
       "      <td>101</td>\n",
       "      <td>125</td>\n",
       "      <td>156</td>\n",
       "      <td>35</td>\n",
       "      <td>95</td>\n",
       "    </tr>\n",
       "  </tbody>\n",
       "</table>\n",
       "</div>"
      ],
      "text/plain": [
       "Q46: Feeling of happiness                             1         2        3    \n",
       "Q48: How much freedom of choice and control           1    2    1    2   1   2\n",
       "Q50: Satisfaction with financial situation of h...                            \n",
       "1                                                   211   95  352  109  73  33\n",
       "2                                                    69  101  125  156  35  95"
      ]
     },
     "execution_count": 41,
     "metadata": {},
     "output_type": "execute_result"
    }
   ],
   "source": [
    "pd.crosstab(index=recoded_data['Q50: Satisfaction with financial situation of household'], columns=[recoded_data['Q46: Feeling of happiness'], recoded_data['Q48: How much freedom of choice and control']])\n"
   ]
  },
  {
   "cell_type": "code",
   "execution_count": 42,
   "id": "efefe911",
   "metadata": {},
   "outputs": [
    {
     "data": {
      "text/plain": [
       "(180.60566370036784, 3.972720992548959e-37, 5)"
      ]
     },
     "execution_count": 42,
     "metadata": {},
     "output_type": "execute_result"
    }
   ],
   "source": [
    "chi2_stat, p_val, dof, expected = chi2_contingency(pd.crosstab(index=recoded_data['Q50: Satisfaction with financial situation of household'], columns=[recoded_data['Q46: Feeling of happiness'], recoded_data['Q48: How much freedom of choice and control']]))\n",
    "\n",
    "chi2_stat, p_val , dof"
   ]
  },
  {
   "cell_type": "markdown",
   "id": "fed8e9b4",
   "metadata": {},
   "source": [
    "# Preprocessing Data for Binary logistic Regression model"
   ]
  },
  {
   "cell_type": "code",
   "execution_count": 43,
   "id": "3d3dbab7",
   "metadata": {},
   "outputs": [
    {
     "data": {
      "text/html": [
       "<div>\n",
       "<style scoped>\n",
       "    .dataframe tbody tr th:only-of-type {\n",
       "        vertical-align: middle;\n",
       "    }\n",
       "\n",
       "    .dataframe tbody tr th {\n",
       "        vertical-align: top;\n",
       "    }\n",
       "\n",
       "    .dataframe thead th {\n",
       "        text-align: right;\n",
       "    }\n",
       "</style>\n",
       "<table border=\"1\" class=\"dataframe\">\n",
       "  <thead>\n",
       "    <tr style=\"text-align: right;\">\n",
       "      <th></th>\n",
       "      <th>Q46: Feeling of happiness</th>\n",
       "      <th>Q48: How much freedom of choice and control</th>\n",
       "      <th>Q50: Satisfaction with financial situation of household</th>\n",
       "      <th>Q54: Frequency you/family (last 12 month): Gone without a cash income</th>\n",
       "      <th>Q158: Science and technology are making our lives healthier, easier, and more comfortable</th>\n",
       "      <th>Q260: Sex</th>\n",
       "    </tr>\n",
       "  </thead>\n",
       "  <tbody>\n",
       "    <tr>\n",
       "      <th>0</th>\n",
       "      <td>2</td>\n",
       "      <td>1</td>\n",
       "      <td>1</td>\n",
       "      <td>3</td>\n",
       "      <td>2</td>\n",
       "      <td>2</td>\n",
       "    </tr>\n",
       "    <tr>\n",
       "      <th>1</th>\n",
       "      <td>1</td>\n",
       "      <td>1</td>\n",
       "      <td>1</td>\n",
       "      <td>3</td>\n",
       "      <td>2</td>\n",
       "      <td>1</td>\n",
       "    </tr>\n",
       "    <tr>\n",
       "      <th>2</th>\n",
       "      <td>2</td>\n",
       "      <td>2</td>\n",
       "      <td>2</td>\n",
       "      <td>2</td>\n",
       "      <td>1</td>\n",
       "      <td>1</td>\n",
       "    </tr>\n",
       "    <tr>\n",
       "      <th>3</th>\n",
       "      <td>1</td>\n",
       "      <td>1</td>\n",
       "      <td>1</td>\n",
       "      <td>2</td>\n",
       "      <td>1</td>\n",
       "      <td>2</td>\n",
       "    </tr>\n",
       "    <tr>\n",
       "      <th>4</th>\n",
       "      <td>2</td>\n",
       "      <td>1</td>\n",
       "      <td>2</td>\n",
       "      <td>1</td>\n",
       "      <td>2</td>\n",
       "      <td>2</td>\n",
       "    </tr>\n",
       "    <tr>\n",
       "      <th>...</th>\n",
       "      <td>...</td>\n",
       "      <td>...</td>\n",
       "      <td>...</td>\n",
       "      <td>...</td>\n",
       "      <td>...</td>\n",
       "      <td>...</td>\n",
       "    </tr>\n",
       "    <tr>\n",
       "      <th>1495</th>\n",
       "      <td>1</td>\n",
       "      <td>2</td>\n",
       "      <td>2</td>\n",
       "      <td>2</td>\n",
       "      <td>1</td>\n",
       "      <td>2</td>\n",
       "    </tr>\n",
       "    <tr>\n",
       "      <th>1496</th>\n",
       "      <td>1</td>\n",
       "      <td>2</td>\n",
       "      <td>2</td>\n",
       "      <td>1</td>\n",
       "      <td>1</td>\n",
       "      <td>1</td>\n",
       "    </tr>\n",
       "    <tr>\n",
       "      <th>1497</th>\n",
       "      <td>1</td>\n",
       "      <td>1</td>\n",
       "      <td>1</td>\n",
       "      <td>3</td>\n",
       "      <td>1</td>\n",
       "      <td>2</td>\n",
       "    </tr>\n",
       "    <tr>\n",
       "      <th>1498</th>\n",
       "      <td>2</td>\n",
       "      <td>1</td>\n",
       "      <td>1</td>\n",
       "      <td>3</td>\n",
       "      <td>1</td>\n",
       "      <td>1</td>\n",
       "    </tr>\n",
       "    <tr>\n",
       "      <th>1499</th>\n",
       "      <td>2</td>\n",
       "      <td>1</td>\n",
       "      <td>2</td>\n",
       "      <td>3</td>\n",
       "      <td>1</td>\n",
       "      <td>1</td>\n",
       "    </tr>\n",
       "  </tbody>\n",
       "</table>\n",
       "<p>1454 rows × 6 columns</p>\n",
       "</div>"
      ],
      "text/plain": [
       "      Q46: Feeling of happiness  Q48: How much freedom of choice and control  \\\n",
       "0                             2                                            1   \n",
       "1                             1                                            1   \n",
       "2                             2                                            2   \n",
       "3                             1                                            1   \n",
       "4                             2                                            1   \n",
       "...                         ...                                          ...   \n",
       "1495                          1                                            2   \n",
       "1496                          1                                            2   \n",
       "1497                          1                                            1   \n",
       "1498                          2                                            1   \n",
       "1499                          2                                            1   \n",
       "\n",
       "      Q50: Satisfaction with financial situation of household  \\\n",
       "0                                                     1         \n",
       "1                                                     1         \n",
       "2                                                     2         \n",
       "3                                                     1         \n",
       "4                                                     2         \n",
       "...                                                 ...         \n",
       "1495                                                  2         \n",
       "1496                                                  2         \n",
       "1497                                                  1         \n",
       "1498                                                  1         \n",
       "1499                                                  2         \n",
       "\n",
       "      Q54: Frequency you/family (last 12 month): Gone without a cash income  \\\n",
       "0                                                     3                       \n",
       "1                                                     3                       \n",
       "2                                                     2                       \n",
       "3                                                     2                       \n",
       "4                                                     1                       \n",
       "...                                                 ...                       \n",
       "1495                                                  2                       \n",
       "1496                                                  1                       \n",
       "1497                                                  3                       \n",
       "1498                                                  3                       \n",
       "1499                                                  3                       \n",
       "\n",
       "      Q158: Science and technology are making our lives healthier, easier, and more comfortable  \\\n",
       "0                                                     2                                           \n",
       "1                                                     2                                           \n",
       "2                                                     1                                           \n",
       "3                                                     1                                           \n",
       "4                                                     2                                           \n",
       "...                                                 ...                                           \n",
       "1495                                                  1                                           \n",
       "1496                                                  1                                           \n",
       "1497                                                  1                                           \n",
       "1498                                                  1                                           \n",
       "1499                                                  1                                           \n",
       "\n",
       "      Q260: Sex  \n",
       "0             2  \n",
       "1             1  \n",
       "2             1  \n",
       "3             2  \n",
       "4             2  \n",
       "...         ...  \n",
       "1495          2  \n",
       "1496          1  \n",
       "1497          2  \n",
       "1498          1  \n",
       "1499          1  \n",
       "\n",
       "[1454 rows x 6 columns]"
      ]
     },
     "execution_count": 43,
     "metadata": {},
     "output_type": "execute_result"
    }
   ],
   "source": [
    "binary_data = imp_columns\n",
    "binary_data"
   ]
  },
  {
   "cell_type": "code",
   "execution_count": 44,
   "id": "64fe77db",
   "metadata": {},
   "outputs": [
    {
     "data": {
      "text/plain": [
       "Q46: Feeling of happiness\n",
       "2    742\n",
       "1    476\n",
       "3    236\n",
       "Name: count, dtype: int64"
      ]
     },
     "execution_count": 44,
     "metadata": {},
     "output_type": "execute_result"
    }
   ],
   "source": [
    "binary_data['Q46: Feeling of happiness'].value_counts()"
   ]
  },
  {
   "cell_type": "code",
   "execution_count": 45,
   "id": "afc689d5",
   "metadata": {},
   "outputs": [],
   "source": [
    "# combine category 2 and 3 to be in a new one category(2)\n",
    "\n",
    "# Mapping 2 & 3 to be 2(unhappy)\n",
    "# 1- he's happy\n",
    "# 2- he's unhappy\n",
    "\n",
    "binary_data['Q46: Feeling of happiness'] = binary_data['Q46: Feeling of happiness'].map({1:1 , 2:2 , 3:2})"
   ]
  },
  {
   "cell_type": "code",
   "execution_count": 46,
   "id": "99f588af",
   "metadata": {},
   "outputs": [
    {
     "data": {
      "text/plain": [
       "Q46: Feeling of happiness\n",
       "2    978\n",
       "1    476\n",
       "Name: count, dtype: int64"
      ]
     },
     "execution_count": 46,
     "metadata": {},
     "output_type": "execute_result"
    }
   ],
   "source": [
    "binary_data['Q46: Feeling of happiness'].value_counts()"
   ]
  },
  {
   "cell_type": "code",
   "execution_count": 47,
   "id": "e7e7ccbc",
   "metadata": {},
   "outputs": [
    {
     "data": {
      "image/png": "[encoded data removed]",
      "text/plain": [
       "<Figure size 800x800 with 1 Axes>"
      ]
     },
     "metadata": {},
     "output_type": "display_data"
    }
   ],
   "source": [
    "fig, ax = plt.subplots(figsize=(8, 8))\n",
    "ax.pie(binary_data['Q46: Feeling of happiness'].value_counts(), labels = [ 'Unhappy' , 'Happy' ],\n",
    "       autopct='%1.1f%%')\n",
    "ax.legend(title='Categories', loc='best')\n",
    "ax.set_title('Feelings of Happiness')\n",
    "plt.show()"
   ]
  },
  {
   "cell_type": "code",
   "execution_count": 48,
   "id": "3efabd24",
   "metadata": {},
   "outputs": [],
   "source": [
    "binary_data.to_csv('binary.csv' , index = True)\n"
   ]
  },
  {
   "cell_type": "code",
   "execution_count": null,
   "id": "3d2dc207",
   "metadata": {},
   "outputs": [],
   "source": []
  }
 ],
 "metadata": {
  "kernelspec": {
   "display_name": "Python 3 (ipykernel)",
   "language": "python",
   "name": "python3"
  },
  "language_info": {
   "codemirror_mode": {
    "name": "ipython",
    "version": 3
   },
   "file_extension": ".py",
   "mimetype": "text/x-python",
   "name": "python",
   "nbconvert_exporter": "python",
   "pygments_lexer": "ipython3",
   "version": "3.10.9"
  }
 },
 "nbformat": 4,
 "nbformat_minor": 5
}
